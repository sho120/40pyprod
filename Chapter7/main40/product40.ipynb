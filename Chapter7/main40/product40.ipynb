{
 "cells": [
  {
   "cell_type": "code",
   "execution_count": null,
   "metadata": {},
   "outputs": [],
   "source": [
    "from glob import glob\n",
    "\n",
    "img_path = r'Chapter7\\all'\n",
    "\n",
    "img_list = glob(img_path + '\\*.jpg')\n",
    "img_list.extend(glob(img_path + '\\*.png'))\n",
    "\n",
    "print(img_list)"
   ]
  }
 ],
 "metadata": {
  "language_info": {
   "name": "python"
  },
  "orig_nbformat": 4
 },
 "nbformat": 4,
 "nbformat_minor": 2
}
