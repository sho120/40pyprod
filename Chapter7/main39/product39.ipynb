{
 "cells": [
  {
   "cell_type": "code",
   "execution_count": 1,
   "metadata": {},
   "outputs": [],
   "source": [
    "import numpy as np\n",
    "import matplotlib.pyplot as plt\n",
    "from keras.models import Sequential\n",
    "from keras.layers import LSTM, Dense\n",
    "from datetime import datetime\n",
    "from dateutil.relativedelta import relativedelta\n",
    "from pandas_datareader import data as pdr\n",
    "import yfinance as yf\n",
    "\n",
    "yf.pdr_override()"
   ]
  },
  {
   "cell_type": "code",
   "execution_count": 2,
   "metadata": {},
   "outputs": [
    {
     "name": "stdout",
     "output_type": "stream",
     "text": [
      "end : 2022-11-27\n",
      "start : 2012-11-27\n",
      "[*********************100%***********************]  1 of 1 completed\n",
      "               Open     High      Low    Close     Adj Close    Volume\n",
      "Date                                                                  \n",
      "2012-11-27  28100.0  28560.0  28080.0  28320.0  22659.490234  11836200\n",
      "2012-11-28  28000.0  28760.0  27920.0  28260.0  22611.482422  14055800\n",
      "2012-11-29  28040.0  28440.0  28040.0  28280.0  22627.486328  13073300\n",
      "2012-11-30  28460.0  28500.0  27980.0  28120.0  22499.470703  16427600\n",
      "2012-12-03  28400.0  28720.0  28160.0  28600.0  22883.525391  10220850\n",
      "...             ...      ...      ...      ...           ...       ...\n",
      "2022-11-21  61400.0  61800.0  60800.0  61400.0  61400.000000   9378097\n",
      "2022-11-22  60900.0  61200.0  60300.0  60600.0  60600.000000   9411289\n",
      "2022-11-23  61200.0  61300.0  60700.0  61000.0  61000.000000   8765050\n",
      "2022-11-24  61200.0  61700.0  60900.0  61400.0  61400.000000   8125010\n",
      "2022-11-25  61400.0  61700.0  60800.0  61000.0  61000.000000   6677933\n",
      "\n",
      "[2456 rows x 6 columns]\n"
     ]
    }
   ],
   "source": [
    "now = datetime.now()\n",
    "\n",
    "before = now - relativedelta(years = 10)\n",
    "\n",
    "now_day = now.strftime(\"%Y-%m-%d\")\n",
    "before_day = before.strftime(\"%Y-%m-%d\")\n",
    "print(f\"end : {now_day}\")\n",
    "print(f\"start : {before_day}\")\n",
    "\n",
    "samsung_stock = pdr.get_data_yahoo(\"005930.KS\", start=before_day, end=now_day)\n",
    "print(samsung_stock)"
   ]
  },
  {
   "cell_type": "code",
   "execution_count": 3,
   "metadata": {},
   "outputs": [
    {
     "name": "stdout",
     "output_type": "stream",
     "text": [
      "[28320. 28260. 28280. ... 61000. 61400. 61000.]\n",
      "2425 31\n"
     ]
    }
   ],
   "source": [
    "close_pirces = samsung_stock['Close'].values\n",
    "print(close_pirces)\n",
    "\n",
    "window_size = 30\n",
    "\n",
    "result_list = []\n",
    "for i in range(len(close_pirces) - (window_size + 1)):\n",
    "    result_list.append(close_pirces[i: i + (window_size + 1)])\n",
    "\n",
    "normal_data = []\n",
    "for window in result_list:\n",
    "    window_list = [((float(p)/float(window[0]))-1)for p in window]\n",
    "    normal_data.append(window_list)\n",
    "\n",
    "result_list = np.array(normal_data)\n",
    "print(result_list.shape[0], result_list.shape[1])"
   ]
  },
  {
   "cell_type": "code",
   "execution_count": 4,
   "metadata": {},
   "outputs": [
    {
     "data": {
      "text/plain": [
       "((2182, 30), (243, 30))"
      ]
     },
     "execution_count": 4,
     "metadata": {},
     "output_type": "execute_result"
    }
   ],
   "source": [
    "row = int(round(result_list.shape[0]*0.9))\n",
    "train = result_list[:row, :]\n",
    "\n",
    "x_train = train[:, :-1]\n",
    "x_train = np.reshape(x_train, (x_train.shape[0], x_train.shape[1]))\n",
    "y_train = train[:, -1]\n",
    "\n",
    "x_test = result_list[row:, :-1]\n",
    "x_test = np.reshape(x_test, (x_test.shape[0], x_test.shape[1]))\n",
    "y_test = result_list[row:, -1]\n",
    "\n",
    "x_train.shape, x_test.shape"
   ]
  },
  {
   "cell_type": "code",
   "execution_count": null,
   "metadata": {},
   "outputs": [],
   "source": [
    "model = Sequential()\n",
    "model.add(LSTM(window_size, return_sequences=True, input_shape=(window_size, 1)))\n",
    "model.add(LSTM(64, return_sequences=False))\n",
    "model.add(Dense(1, activation='linear'))\n",
    "model.compile(loss='mse',optimizer='rmsprop')\n",
    "model.summary()"
   ]
  }
 ],
 "metadata": {
  "kernelspec": {
   "display_name": "Python 3.10.6 64-bit",
   "language": "python",
   "name": "python3"
  },
  "language_info": {
   "codemirror_mode": {
    "name": "ipython",
    "version": 3
   },
   "file_extension": ".py",
   "mimetype": "text/x-python",
   "name": "python",
   "nbconvert_exporter": "python",
   "pygments_lexer": "ipython3",
   "version": "3.10.6"
  },
  "orig_nbformat": 4,
  "vscode": {
   "interpreter": {
    "hash": "1ce79748dbe73b8f5b368e744cd2bcfae70f6436d5d95c1fef9997b087a225a7"
   }
  }
 },
 "nbformat": 4,
 "nbformat_minor": 2
}
