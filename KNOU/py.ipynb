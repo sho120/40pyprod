{
 "cells": [
  {
   "cell_type": "code",
   "execution_count": 4,
   "metadata": {},
   "outputs": [
    {
     "data": {
      "text/plain": [
       "{'name': ['kim', 'lee', 'park'],\n",
       " 'height': [170, 160, 180],\n",
       " 'weight': [60, 55, 75]}"
      ]
     },
     "execution_count": 4,
     "metadata": {},
     "output_type": "execute_result"
    }
   ],
   "source": [
    "#3장 2번\n",
    "x1 = ['kim','lee','park']\n",
    "x2 = [170, 160, 180]\n",
    "x3 = [60, 55, 75]\n",
    "key = ['name', 'height', 'weight']\n",
    "\n",
    "dict = {}\n",
    "\n",
    "dict[key[0]] = x1\n",
    "dict[key[1]] = x2\n",
    "dict[key[2]] = x3\n",
    "\n",
    "dict    "
   ]
  },
  {
   "cell_type": "code",
   "execution_count": 27,
   "metadata": {},
   "outputs": [
    {
     "data": {
      "text/plain": [
       "list"
      ]
     },
     "execution_count": 27,
     "metadata": {},
     "output_type": "execute_result"
    }
   ],
   "source": [
    "# 3장 3번\n",
    "import pandas as pd\n",
    "import numpy as np\n",
    "\n",
    "df = pd.DataFrame(dict)\n",
    "\n",
    "a = df.loc[0,['height','weight']]\n",
    "nparray = np.array(a)\n",
    "#type(nparray)\n",
    "array = nparray.tolist()\n",
    "#type(array)"
   ]
  },
  {
   "cell_type": "code",
   "execution_count": 6,
   "metadata": {},
   "outputs": [
    {
     "data": {
      "text/html": [
       "<div>\n",
       "<style scoped>\n",
       "    .dataframe tbody tr th:only-of-type {\n",
       "        vertical-align: middle;\n",
       "    }\n",
       "\n",
       "    .dataframe tbody tr th {\n",
       "        vertical-align: top;\n",
       "    }\n",
       "\n",
       "    .dataframe thead th {\n",
       "        text-align: right;\n",
       "    }\n",
       "</style>\n",
       "<table border=\"1\" class=\"dataframe\">\n",
       "  <thead>\n",
       "    <tr style=\"text-align: right;\">\n",
       "      <th></th>\n",
       "      <th>name</th>\n",
       "      <th>height</th>\n",
       "      <th>weight</th>\n",
       "    </tr>\n",
       "  </thead>\n",
       "  <tbody>\n",
       "    <tr>\n",
       "      <th>0</th>\n",
       "      <td>kim</td>\n",
       "      <td>170</td>\n",
       "      <td>60</td>\n",
       "    </tr>\n",
       "    <tr>\n",
       "      <th>1</th>\n",
       "      <td>lee</td>\n",
       "      <td>160</td>\n",
       "      <td>55</td>\n",
       "    </tr>\n",
       "    <tr>\n",
       "      <th>2</th>\n",
       "      <td>park</td>\n",
       "      <td>180</td>\n",
       "      <td>75</td>\n",
       "    </tr>\n",
       "  </tbody>\n",
       "</table>\n",
       "</div>"
      ],
      "text/plain": [
       "   name  height  weight\n",
       "0   kim     170      60\n",
       "1   lee     160      55\n",
       "2  park     180      75"
      ]
     },
     "execution_count": 6,
     "metadata": {},
     "output_type": "execute_result"
    }
   ],
   "source": []
  },
  {
   "cell_type": "code",
   "execution_count": 54,
   "metadata": {},
   "outputs": [
    {
     "ename": "TypeError",
     "evalue": "'<' not supported between instances of 'str' and 'int'",
     "output_type": "error",
     "traceback": [
      "\u001b[1;31m---------------------------------------------------------------------------\u001b[0m",
      "\u001b[1;31mTypeError\u001b[0m                                 Traceback (most recent call last)",
      "Cell \u001b[1;32mIn [54], line 17\u001b[0m\n\u001b[0;32m     14\u001b[0m         wage \u001b[39m=\u001b[39m \u001b[39m0\u001b[39m    \n\u001b[0;32m     15\u001b[0m     \u001b[39mreturn\u001b[39;00m wage\n\u001b[1;32m---> 17\u001b[0m mywage(\u001b[39m'\u001b[39;49m\u001b[39m안녕\u001b[39;49m\u001b[39m'\u001b[39;49m)\n",
      "Cell \u001b[1;32mIn [54], line 4\u001b[0m, in \u001b[0;36mmywage\u001b[1;34m(time)\u001b[0m\n\u001b[0;32m      2\u001b[0m \u001b[39mdef\u001b[39;00m \u001b[39mmywage\u001b[39m (time):\n\u001b[0;32m      3\u001b[0m     hourlyWage \u001b[39m=\u001b[39m \u001b[39m10000\u001b[39m\n\u001b[1;32m----> 4\u001b[0m     \u001b[39mif\u001b[39;00m(time\u001b[39m<\u001b[39;49m\u001b[39m0\u001b[39;49m):\n\u001b[0;32m      5\u001b[0m         \u001b[39mprint\u001b[39m(\u001b[39m'\u001b[39m\u001b[39m시간은 양수입니다.\u001b[39m\u001b[39m'\u001b[39m)\n\u001b[0;32m      6\u001b[0m         wage \u001b[39m=\u001b[39m \u001b[39m0\u001b[39m\n",
      "\u001b[1;31mTypeError\u001b[0m: '<' not supported between instances of 'str' and 'int'"
     ]
    }
   ],
   "source": [
    "# 4장 7번\n",
    "def mywage (time):\n",
    "    hourlyWage = 10000\n",
    "    if(time<0):\n",
    "        print('시간은 양수입니다.')\n",
    "        wage = 0\n",
    "    elif(time<=40):\n",
    "        wage = time*hourlyWage\n",
    "    elif(time>40):\n",
    "        overTime = time-40\n",
    "        wage = time*hourlyWage + overTime*hourlyWage*1.5   \n",
    "    return wage\n",
    "        "
   ]
  },
  {
   "cell_type": "code",
   "execution_count": null,
   "metadata": {},
   "outputs": [],
   "source": [
    "#4장 9번"
   ]
  },
  {
   "cell_type": "code",
   "execution_count": null,
   "metadata": {},
   "outputs": [],
   "source": []
  }
 ],
 "metadata": {
  "kernelspec": {
   "display_name": "Python 3.10.6 64-bit",
   "language": "python",
   "name": "python3"
  },
  "language_info": {
   "codemirror_mode": {
    "name": "ipython",
    "version": 3
   },
   "file_extension": ".py",
   "mimetype": "text/x-python",
   "name": "python",
   "nbconvert_exporter": "python",
   "pygments_lexer": "ipython3",
   "version": "3.10.6"
  },
  "orig_nbformat": 4,
  "vscode": {
   "interpreter": {
    "hash": "26de051ba29f2982a8de78e945f0abaf191376122a1563185a90213a26c5da77"
   }
  }
 },
 "nbformat": 4,
 "nbformat_minor": 2
}
